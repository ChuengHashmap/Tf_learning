{
 "cells": [
  {
   "cell_type": "code",
   "execution_count": 1,
   "id": "229497f2",
   "metadata": {},
   "outputs": [],
   "source": [
    "\"\"\"\n",
    "TF Text主要采用了unicode的编码方式进行运作\n",
    "\"\"\"\n",
    "import tensorflow as tf\n",
    "import numpy as np"
   ]
  },
  {
   "cell_type": "code",
   "execution_count": 2,
   "id": "b5209229",
   "metadata": {},
   "outputs": [
    {
     "name": "stderr",
     "output_type": "stream",
     "text": [
      "2023-03-28 16:02:49.636905: I tensorflow/core/platform/cpu_feature_guard.cc:142] Your CPU supports instructions that this TensorFlow binary was not compiled to use: AVX2 AVX512F FMA\n",
      "2023-03-28 16:02:49.683992: I tensorflow/core/platform/profile_utils/cpu_utils.cc:94] CPU Frequency: 2300000000 Hz\n",
      "2023-03-28 16:02:49.695024: I tensorflow/compiler/xla/service/service.cc:168] XLA service 0x560dd15549d0 executing computations on platform Host. Devices:\n",
      "2023-03-28 16:02:49.695082: I tensorflow/compiler/xla/service/service.cc:175]   StreamExecutor device (0): Host, Default Version\n"
     ]
    },
    {
     "data": {
      "text/plain": [
       "<tf.Tensor: id=0, shape=(), dtype=string, numpy=b'Thanks \\xf0\\x9f\\x98\\x8a'>"
      ]
     },
     "execution_count": 2,
     "metadata": {},
     "output_type": "execute_result"
    }
   ],
   "source": [
    "tf.constant(u\"Thanks 😊\")"
   ]
  },
  {
   "cell_type": "code",
   "execution_count": 3,
   "id": "1e5d64f5",
   "metadata": {},
   "outputs": [
    {
     "data": {
      "text/plain": [
       "TensorShape([2])"
      ]
     },
     "execution_count": 3,
     "metadata": {},
     "output_type": "execute_result"
    }
   ],
   "source": [
    "# tf.string treats byte strings as atomic units, \n",
    "# which enables byte strings of varying lengths\n",
    "# so the string length is not included in the tensor dimensions.\n",
    "tf.constant([u'You are',u'welcome!']).shape"
   ]
  },
  {
   "cell_type": "code",
   "execution_count": 9,
   "id": "2d7de9d1",
   "metadata": {},
   "outputs": [
    {
     "data": {
      "text/plain": [
       "<tf.Tensor: id=19, shape=(), dtype=string, numpy=b'\\xe8\\xaf\\xad\\xe8\\xa8\\x80\\xe5\\xa4\\x84\\xe7\\x90\\x86'>"
      ]
     },
     "execution_count": 9,
     "metadata": {},
     "output_type": "execute_result"
    }
   ],
   "source": [
    "\"\"\"\n",
    "Two ways to represent a Unicode string in Tensorflow:\n",
    "1.string scalar - sequence of code points is encoded using a known\n",
    "2.int32 vector - each posistion contains a single point\n",
    "\"\"\"\n",
    "# Unicode string, represented as a UTF-8 encoded string scalar.\n",
    "text_utf8 = tf.constant(u\"语言处理\")\n",
    "text_utf8"
   ]
  },
  {
   "cell_type": "code",
   "execution_count": 5,
   "id": "6d17b02a",
   "metadata": {},
   "outputs": [
    {
     "data": {
      "text/plain": [
       "<tf.Tensor: id=3, shape=(), dtype=string, numpy=b'\\x8b\\xed\\x8a\\x00Y\\x04t\\x06'>"
      ]
     },
     "execution_count": 5,
     "metadata": {},
     "output_type": "execute_result"
    }
   ],
   "source": [
    "# Unicode string, represented as a UTF-16-BE encoded string scalar.\n",
    "text_utf16be = tf.constant(u\"语言处理\".encode(\"UTF-16-BE\"))\n",
    "text_utf16be"
   ]
  },
  {
   "cell_type": "code",
   "execution_count": 6,
   "id": "908064cc",
   "metadata": {},
   "outputs": [
    {
     "data": {
      "text/plain": [
       "<tf.Tensor: id=4, shape=(4,), dtype=int32, numpy=array([35821, 35328, 22788, 29702], dtype=int32)>"
      ]
     },
     "execution_count": 6,
     "metadata": {},
     "output_type": "execute_result"
    }
   ],
   "source": [
    "# Unicode string, represented as a vector of Unicode code points.\n",
    "text_chars = tf.constant([ord(char) for char in u\"语言处理\"])\n",
    "text_chars"
   ]
  },
  {
   "cell_type": "code",
   "execution_count": 10,
   "id": "e6948486",
   "metadata": {},
   "outputs": [
    {
     "data": {
      "text/plain": [
       "<tf.Tensor: id=23, shape=(4,), dtype=int32, numpy=array([35821, 35328, 22788, 29702], dtype=int32)>"
      ]
     },
     "execution_count": 10,
     "metadata": {},
     "output_type": "execute_result"
    }
   ],
   "source": [
    "\"\"\"\n",
    "TensorFlow provides operations to convert between these different representations:\n",
    "1.tf.strings.unicode_decode: Converts an encoded string scalar \n",
    "                            to a vector of code points.\n",
    "2.tf.strings.unicode_encode: Converts a vector of code points \n",
    "                            to an encoded string scalar.\n",
    "tf.strings.unicode_transcode: Converts an encoded string scalar \n",
    "                            to a different encoding.\n",
    "\"\"\"\n",
    "# 将UTF-8转为code points vector\n",
    "tf.strings.unicode_decode(text_utf8, input_encoding='UTF-8')"
   ]
  },
  {
   "cell_type": "code",
   "execution_count": 11,
   "id": "b43e799a",
   "metadata": {},
   "outputs": [
    {
     "data": {
      "text/plain": [
       "<tf.Tensor: id=33, shape=(), dtype=string, numpy=b'\\xe8\\xaf\\xad\\xe8\\xa8\\x80\\xe5\\xa4\\x84\\xe7\\x90\\x86'>"
      ]
     },
     "execution_count": 11,
     "metadata": {},
     "output_type": "execute_result"
    }
   ],
   "source": [
    "# 将code porints vector转化为UTF-8\n",
    "tf.strings.unicode_encode(text_chars, output_encoding='UTF-8')"
   ]
  },
  {
   "cell_type": "code",
   "execution_count": 13,
   "id": "e0a6d3d5",
   "metadata": {},
   "outputs": [
    {
     "data": {
      "text/plain": [
       "<tf.Tensor: id=34, shape=(), dtype=string, numpy=b'\\x8b\\xed\\x8a\\x00Y\\x04t\\x06'>"
      ]
     },
     "execution_count": 13,
     "metadata": {},
     "output_type": "execute_result"
    }
   ],
   "source": [
    "# 将UTF-8转为UTF-116-BE\n",
    "tf.strings.unicode_transcode(text_utf8,\n",
    "                            input_encoding='UTF-8',\n",
    "                            output_encoding='UTF-16-BE')"
   ]
  },
  {
   "cell_type": "code",
   "execution_count": 19,
   "id": "40848831",
   "metadata": {},
   "outputs": [
    {
     "name": "stdout",
     "output_type": "stream",
     "text": [
      "[20320, 22909]\n",
      "[24555, 29228]\n",
      "[25105, 26469, 21040, 20320, 30340, 22478, 24066, 65292, 36208, 36807, 20320, 26469, 26102, 30340, 36335]\n",
      "[128522]\n"
     ]
    }
   ],
   "source": [
    "# A batch of Unicode strings, each represented as a UTF8-encoded string.\n",
    "batch_utf8 = [s.encode('UTF-8') for s in\n",
    "              [u'你好', u'快爬', u'我来到你的城市，走过你来时的路', u'😊']]\n",
    "\n",
    "# batch解码，返回tf.RaggedTensor，\n",
    "# where the innermost dimension length varies depending on the number of characters in each string.\n",
    "batch_chars_ragged = tf.strings.unicode_decode(batch_utf8,\n",
    "                                               input_encoding='UTF-8')\n",
    "for sentence_chars in batch_chars_ragged.to_list():\n",
    "    print(sentence_chars)"
   ]
  },
  {
   "cell_type": "code",
   "execution_count": 22,
   "id": "cc0129a3",
   "metadata": {},
   "outputs": [
    {
     "data": {
      "text/plain": [
       "array([[ 20320,  22909,     -1,     -1,     -1,     -1,     -1,     -1,\n",
       "            -1,     -1,     -1,     -1,     -1,     -1,     -1],\n",
       "       [ 24555,  29228,     -1,     -1,     -1,     -1,     -1,     -1,\n",
       "            -1,     -1,     -1,     -1,     -1,     -1,     -1],\n",
       "       [ 25105,  26469,  21040,  20320,  30340,  22478,  24066,  65292,\n",
       "         36208,  36807,  20320,  26469,  26102,  30340,  36335],\n",
       "       [128522,     -1,     -1,     -1,     -1,     -1,     -1,     -1,\n",
       "            -1,     -1,     -1,     -1,     -1,     -1,     -1]],\n",
       "      dtype=int32)"
      ]
     },
     "execution_count": 22,
     "metadata": {},
     "output_type": "execute_result"
    }
   ],
   "source": [
    "# 将RaggedTensor转为tensor,空白值填为default_value\n",
    "batch_chars_padded = batch_chars_ragged.to_tensor(default_value=-1)\n",
    "batch_chars_padded.numpy()"
   ]
  },
  {
   "cell_type": "code",
   "execution_count": 38,
   "id": "fabb1e6c",
   "metadata": {},
   "outputs": [],
   "source": [
    "# 将RaggedTensor转为SparseTensor\n",
    "batch_chars_sparse = batch_chars_ragged.to_sparse()\n",
    "nrows, ncols = batch_chars_sparse.dense_shape.numpy()"
   ]
  },
  {
   "cell_type": "code",
   "execution_count": 26,
   "id": "116c2a3e",
   "metadata": {},
   "outputs": [
    {
     "data": {
      "text/plain": [
       "[['-', '-', '-', '-', '-', '-', '-', '-', '-', '-', '-', '-', '-', '-', '-'],\n",
       " ['-', '-', '-', '-', '-', '-', '-', '-', '-', '-', '-', '-', '-', '-', '-'],\n",
       " ['-', '-', '-', '-', '-', '-', '-', '-', '-', '-', '-', '-', '-', '-', '-'],\n",
       " ['-', '-', '-', '-', '-', '-', '-', '-', '-', '-', '-', '-', '-', '-', '-']]"
      ]
     },
     "execution_count": 26,
     "metadata": {},
     "output_type": "execute_result"
    }
   ],
   "source": [
    "elements=[['-' for i in range(ncols)] for j in range(nrows)]\n",
    "elements"
   ]
  },
  {
   "cell_type": "code",
   "execution_count": 34,
   "id": "91f4212a",
   "metadata": {},
   "outputs": [
    {
     "name": "stdout",
     "output_type": "stream",
     "text": [
      "[[ 20320,  22909,      -,      -,      -,      -,      -,      -,      -,      -,      -,      -,      -,      -,      -]\n",
      " [ 24555,  29228,      -,      -,      -,      -,      -,      -,      -,      -,      -,      -,      -,      -,      -]\n",
      " [ 25105,  26469,  21040,  20320,  30340,  22478,  24066,  65292,  36208,  36807,  20320,  26469,  26102,  30340,  36335]\n",
      " [128522,      -,      -,      -,      -,      -,      -,      -,      -,      -,      -,      -,      -,      -,      -]]\n"
     ]
    }
   ],
   "source": [
    "for (row,col), value in zip(batch_chars_sparse.indices.numpy(),batch_chars_sparse.values.numpy()):\n",
    "    elements[row][col] = str(value)\n",
    "\n",
    "max_width = max(len(value) for row in elements for value in row)\n",
    "print('[%s]' % '\\n '.join(\n",
    "    '[%s]' % ', '.join(value.rjust(max_width) for value in row)\n",
    "    for row in elements))"
   ]
  },
  {
   "cell_type": "code",
   "execution_count": 35,
   "id": "98d59b3b",
   "metadata": {},
   "outputs": [
    {
     "data": {
      "text/plain": [
       "<tf.Tensor: id=226, shape=(3,), dtype=string, numpy=array([b'cat', b'dog', b'cow'], dtype=object)>"
      ]
     },
     "execution_count": 35,
     "metadata": {},
     "output_type": "execute_result"
    }
   ],
   "source": [
    "# when encoding multiple strings with the same lengths, use a tf.Tensor as input\n",
    "tf.strings.unicode_encode([[99,97,116],[100,111,103],[99,111,119]],\n",
    "                         output_encoding='UTF-8')"
   ]
  },
  {
   "cell_type": "code",
   "execution_count": 36,
   "id": "31acf356",
   "metadata": {},
   "outputs": [
    {
     "data": {
      "text/plain": [
       "<tf.Tensor: id=227, shape=(4,), dtype=string, numpy=\n",
       "array([b'\\xe4\\xbd\\xa0\\xe5\\xa5\\xbd', b'\\xe5\\xbf\\xab\\xe7\\x88\\xac',\n",
       "       b'\\xe6\\x88\\x91\\xe6\\x9d\\xa5\\xe5\\x88\\xb0\\xe4\\xbd\\xa0\\xe7\\x9a\\x84\\xe5\\x9f\\x8e\\xe5\\xb8\\x82\\xef\\xbc\\x8c\\xe8\\xb5\\xb0\\xe8\\xbf\\x87\\xe4\\xbd\\xa0\\xe6\\x9d\\xa5\\xe6\\x97\\xb6\\xe7\\x9a\\x84\\xe8\\xb7\\xaf',\n",
       "       b'\\xf0\\x9f\\x98\\x8a'], dtype=object)>"
      ]
     },
     "execution_count": 36,
     "metadata": {},
     "output_type": "execute_result"
    }
   ],
   "source": [
    "# when encoding multiple strings with varying length, use a tf.RaggedTensor as the input\n",
    "tf.strings.unicode_encode(batch_chars_ragged,\n",
    "                         output_encoding='UTF-8')"
   ]
  },
  {
   "cell_type": "code",
   "execution_count": 66,
   "id": "b5e6e1c9",
   "metadata": {},
   "outputs": [
    {
     "data": {
      "text/plain": [
       "<tf.Tensor: id=808, shape=(4,), dtype=string, numpy=\n",
       "array([b'\\xe4\\xbd\\xa0\\xe5\\xa5\\xbd', b'\\xe5\\xbf\\xab\\xe7\\x88\\xac',\n",
       "       b'\\xe6\\x88\\x91\\xe6\\x9d\\xa5\\xe5\\x88\\xb0\\xe4\\xbd\\xa0\\xe7\\x9a\\x84\\xe5\\x9f\\x8e\\xe5\\xb8\\x82\\xef\\xbc\\x8c\\xe8\\xb5\\xb0\\xe8\\xbf\\x87\\xe4\\xbd\\xa0\\xe6\\x9d\\xa5\\xe6\\x97\\xb6\\xe7\\x9a\\x84\\xe8\\xb7\\xaf',\n",
       "       b'\\xf0\\x9f\\x98\\x8a'], dtype=object)>"
      ]
     },
     "execution_count": 66,
     "metadata": {},
     "output_type": "execute_result"
    }
   ],
   "source": [
    "# tensor in padded or sparse format:\n",
    "# 1.convert it to tf.RaggedTensor\n",
    "# 2.call tf.strings.unicode_encode\n",
    "tf.strings.unicode_encode(\n",
    "    tf.RaggedTensor.from_sparse(batch_chars_sparse),\n",
    "    output_encoding='UTF-8')"
   ]
  },
  {
   "cell_type": "code",
   "execution_count": 67,
   "id": "b8e13e41",
   "metadata": {},
   "outputs": [
    {
     "data": {
      "text/plain": [
       "<tf.Tensor: id=880, shape=(4,), dtype=string, numpy=\n",
       "array([b'\\xe4\\xbd\\xa0\\xe5\\xa5\\xbd', b'\\xe5\\xbf\\xab\\xe7\\x88\\xac',\n",
       "       b'\\xe6\\x88\\x91\\xe6\\x9d\\xa5\\xe5\\x88\\xb0\\xe4\\xbd\\xa0\\xe7\\x9a\\x84\\xe5\\x9f\\x8e\\xe5\\xb8\\x82\\xef\\xbc\\x8c\\xe8\\xb5\\xb0\\xe8\\xbf\\x87\\xe4\\xbd\\xa0\\xe6\\x9d\\xa5\\xe6\\x97\\xb6\\xe7\\x9a\\x84\\xe8\\xb7\\xaf',\n",
       "       b'\\xf0\\x9f\\x98\\x8a'], dtype=object)>"
      ]
     },
     "execution_count": 67,
     "metadata": {},
     "output_type": "execute_result"
    }
   ],
   "source": [
    "# same as sparse format\n",
    "tf.strings.unicode_encode(\n",
    "    tf.RaggedTensor.from_tensor(batch_chars_padded, padding=-1),\n",
    "    output_encoding='UTF-8')"
   ]
  },
  {
   "cell_type": "code",
   "execution_count": 68,
   "id": "b91d28d8",
   "metadata": {},
   "outputs": [
    {
     "name": "stdout",
     "output_type": "stream",
     "text": [
      "11 bytes; 8 UTF-8 characters\n"
     ]
    }
   ],
   "source": [
    "thanks = u'Thanks 😊'.encode('UTF-8')\n",
    "# 获取二进制数长度？\n",
    "num_bytes = tf.strings.length(thanks).numpy()\n",
    "# 获取字符数\n",
    "num_chars = tf.strings.length(thanks, unit='UTF8_CHAR').numpy()\n",
    "print('{} bytes; {} UTF-8 characters'.format(num_bytes, num_chars))"
   ]
  },
  {
   "cell_type": "code",
   "execution_count": 70,
   "id": "32b5bb1c",
   "metadata": {},
   "outputs": [
    {
     "data": {
      "text/plain": [
       "b'\\xf0'"
      ]
     },
     "execution_count": 70,
     "metadata": {},
     "output_type": "execute_result"
    }
   ],
   "source": [
    "\"\"\"\n",
    "Character substrings:\n",
    "tf.strings.substr，可传入unit决定pos & len\n",
    "\"\"\"\n",
    "tf.strings.substr(thanks, pos=7,len=1).numpy()"
   ]
  },
  {
   "cell_type": "code",
   "execution_count": 69,
   "id": "1ca554e4",
   "metadata": {},
   "outputs": [
    {
     "data": {
      "text/plain": [
       "b'\\xf0\\x9f\\x98\\x8a'"
      ]
     },
     "execution_count": 69,
     "metadata": {},
     "output_type": "execute_result"
    }
   ],
   "source": [
    "tf.strings.substr(thanks, pos=7, len=1,unit='UTF8_CHAR').numpy()"
   ]
  },
  {
   "cell_type": "code",
   "execution_count": 71,
   "id": "e00c4fa5",
   "metadata": {},
   "outputs": [
    {
     "data": {
      "text/plain": [
       "array([b'T', b'h', b'a', b'n', b'k', b's', b' ', b'\\xf0\\x9f\\x98\\x8a'],\n",
       "      dtype=object)"
      ]
     },
     "execution_count": 71,
     "metadata": {},
     "output_type": "execute_result"
    }
   ],
   "source": [
    "\"\"\"\n",
    "Split Unicode strings: \n",
    "operation splits unicode strings into substrings of individual characters\n",
    "\"\"\"\n",
    "tf.strings.unicode_split(thanks, 'UTF-8').numpy()"
   ]
  },
  {
   "cell_type": "code",
   "execution_count": 73,
   "id": "eab446ff",
   "metadata": {},
   "outputs": [
    {
     "data": {
      "text/plain": [
       "<tf.Tensor: id=929, shape=(2,), dtype=int32, numpy=array([17,  8], dtype=int32)>"
      ]
     },
     "execution_count": 73,
     "metadata": {},
     "output_type": "execute_result"
    }
   ],
   "source": [
    "\"\"\"\n",
    "Unicode scripts:\n",
    "每个unicode都有相应的script,来表示语种(International Components for Unicode)\n",
    "\"\"\"\n",
    "words = [u'好',u'Б']\n",
    "tf.strings.unicode_script(tf.constant([ord(char) for char in words]))"
   ]
  },
  {
   "cell_type": "code",
   "execution_count": 74,
   "id": "6a4cb8c1",
   "metadata": {},
   "outputs": [
    {
     "name": "stdout",
     "output_type": "stream",
     "text": [
      "<tf.RaggedTensor [[17, 17], [17, 17], [17, 17, 17, 17, 17, 17, 17, 0, 17, 17, 17, 17, 17, 17, 17], [0]]>\n"
     ]
    }
   ],
   "source": [
    "# 可直接作用于RanggedTensor或Tensor上\n",
    "print(tf.strings.unicode_script(batch_chars_ragged))"
   ]
  },
  {
   "cell_type": "code",
   "execution_count": null,
   "id": "f801ce55",
   "metadata": {},
   "outputs": [],
   "source": []
  }
 ],
 "metadata": {
  "kernelspec": {
   "display_name": "wwt_SKEP",
   "language": "python",
   "name": "wwt_skep"
  },
  "language_info": {
   "codemirror_mode": {
    "name": "ipython",
    "version": 3
   },
   "file_extension": ".py",
   "mimetype": "text/x-python",
   "name": "python",
   "nbconvert_exporter": "python",
   "pygments_lexer": "ipython3",
   "version": "3.7.12"
  }
 },
 "nbformat": 4,
 "nbformat_minor": 5
}
